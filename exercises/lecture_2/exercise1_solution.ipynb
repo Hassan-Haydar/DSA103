{
 "cells": [
  {
   "cell_type": "markdown",
   "id": "c4c7b611",
   "metadata": {},
   "source": [
    "# Lecture 2: Computational Thinking with Python"
   ]
  },
  {
   "cell_type": "markdown",
   "id": "a89a669d",
   "metadata": {},
   "source": [
    "## Key Concept Review"
   ]
  },
  {
   "cell_type": "markdown",
   "id": "a68331ac",
   "metadata": {},
   "source": [
    "### String operations\n",
    "\n",
    "Before we begin the exercises, let's review some essential string operations you'll need:\n",
    "\n",
    "#### Looping Over Strings\n",
    "You can loop through each character in a string using a for loop:"
   ]
  },
  {
   "cell_type": "code",
   "execution_count": 1,
   "id": "ed2d84e8",
   "metadata": {},
   "outputs": [
    {
     "name": "stdout",
     "output_type": "stream",
     "text": [
      "H\n",
      "2\n",
      "O\n"
     ]
    }
   ],
   "source": [
    "formula = \"H2O\"\n",
    "for character in formula:\n",
    "    print(character)"
   ]
  },
  {
   "cell_type": "markdown",
   "id": "b5097448",
   "metadata": {},
   "source": [
    "#### Useful String Methods\n",
    "\n",
    "```python\n",
    "string.isalpha() - returns True if the character is a letter\n",
    "string.isdigit() - returns True if the character is a number\n",
    "string.upper() - converts to uppercase\n",
    "string.lower() - converts to lowercase\n",
    "```\n",
    "\n",
    "Get familiar with these functions by experimenting with them. E.g. what is the output of the following?\n",
    "```python\n",
    "\"H\".isalpha()\n",
    "```"
   ]
  },
  {
   "cell_type": "code",
   "execution_count": 2,
   "id": "24e71e33",
   "metadata": {},
   "outputs": [
    {
     "data": {
      "text/plain": [
       "True"
      ]
     },
     "execution_count": 2,
     "metadata": {},
     "output_type": "execute_result"
    }
   ],
   "source": [
    "\"H\".isalpha()"
   ]
  },
  {
   "cell_type": "markdown",
   "id": "5f46cfe2",
   "metadata": {},
   "source": [
    "### String Indexing and Slicing\n",
    "```python\n",
    "formula = \"CH4\"\n",
    "print(formula[0])    # Output: \"C\" (first character)\n",
    "print(formula[1:3])  # Output: \"H4\" (characters from index 1 to 2)\n",
    "print(len(formula))  # Output: 3 (length of string)\n",
    "```\n",
    "Familiarise yourself with these functions.\n"
   ]
  },
  {
   "cell_type": "code",
   "execution_count": 3,
   "id": "48efe32d",
   "metadata": {},
   "outputs": [
    {
     "name": "stdout",
     "output_type": "stream",
     "text": [
      "C\n",
      "H4\n",
      "3\n"
     ]
    }
   ],
   "source": [
    "formula = \"CH4\"\n",
    "print(formula[0])    # Output: \"C\" (first character)\n",
    "print(formula[1:3])  # Output: \"H4\" (characters from index 1 to 2)\n",
    "print(len(formula))  # Output: 3 (length of string)"
   ]
  },
  {
   "cell_type": "markdown",
   "id": "2f75cecd",
   "metadata": {},
   "source": [
    "### Converting Strings to Numbers\n",
    "```python\n",
    "number_string = \"42\"\n",
    "number = int(number_string)  # Converts \"42\" to integer 42\n",
    "```\n",
    "\n",
    "Familiarise yourself with these functions."
   ]
  },
  {
   "cell_type": "code",
   "execution_count": 4,
   "id": "535105c8",
   "metadata": {},
   "outputs": [
    {
     "data": {
      "text/plain": [
       "int"
      ]
     },
     "execution_count": 4,
     "metadata": {},
     "output_type": "execute_result"
    }
   ],
   "source": [
    "number_string = \"42\"\n",
    "number = int(number_string)  # Converts \"42\" to integer 42\n",
    "type(number)"
   ]
  },
  {
   "cell_type": "markdown",
   "id": "6fb0709a",
   "metadata": {},
   "source": [
    "## Exercise 1: Molecular Formula Parser\n",
    "\n",
    "**Objective:** Write a function `parse_molecular_formula(formula)` that counts atoms in molecular formulas. Start with the simple cases, but design your solution to handle increasingly complex inputs without major rewrites.\n",
    "\n",
    "**Think computationally:** How can you break this problem into smaller, reusable pieces that won't need to be completely rewritten when the requirements change?\n"
   ]
  },
  {
   "cell_type": "markdown",
   "id": "9026e7f7",
   "metadata": {},
   "source": [
    "Strategy:\n",
    "- Define a function to count the number of atoms of an element in a formula; if no number is written, assign the value 1 and otherwise assign the number written.\n",
    "- Identify a pattern that finds elements and numbers of atoms (if given) in formulas using RegEx (https://regex101.com/).\n",
    "- Initialize a dictionary to which we can add instances of atoms and their number\n",
    "- Iterate over the RegEx-defined patterns in the formula to fill the dictionary"
   ]
  },
  {
   "cell_type": "code",
   "execution_count": null,
   "id": "49b85af8-cf08-410f-be66-ed7011bab8c3",
   "metadata": {},
   "outputs": [],
   "source": [
    "import re # This is needed in order to use RegEx (regular expressions)\n",
    "\n",
    "def convert_quantities(quantity : str):\n",
    "    if len(quantity) == 0:\n",
    "        return 1\n",
    "    else:\n",
    "        return int(quantity)\n",
    "\n",
    "def parse_molecular_formula(formula: str) -> dict[str, int]:\n",
    "    \"\"\"\n",
    "    Because there is \"N\", \"I\" and \"Ni\" in elements, to split this in a unique way we require the correct capitalization in the input.\n",
    "    This works for sum formulas only.\n",
    "    \"\"\"\n",
    "    atom_dict = dict()\n",
    "    pattern = r\"([A-Z][a-z]?)([0-9]*)\"\n",
    "\n",
    "    components = re.findall(pattern, formula)\n",
    "    for component in components:\n",
    "        atom_dict[component[0]] = convert_quantities(component[1])\n",
    "\n",
    "    return atom_dict"
   ]
  },
  {
   "cell_type": "code",
   "execution_count": 1,
   "id": "bc28ec2b",
   "metadata": {},
   "outputs": [],
   "source": [
    "# Second option\n",
    "# Requires import string (and import Dict), does not require import re\n",
    "\n",
    "import string\n",
    "from typing import Dict\n",
    "    \n",
    "def parse_molecular_formula(formula: str) -> Dict[str, int]:\n",
    "    \"\"\"\n",
    "    Because there is \"N\", \"I\" and \"Ni\" in the elements to split this in a unique way we require the correct capitalization in the input.\n",
    "    \"\"\"\n",
    "    atom_dict = dict()\n",
    "    \n",
    "    tokens = []\n",
    "    token = \"\"\n",
    "    \n",
    "    for ch in formula:\n",
    "        if ch in string.ascii_uppercase:\n",
    "            if len(token) > 0:\n",
    "                tokens.append(token)\n",
    "            token = ch\n",
    "        else:\n",
    "            token += ch\n",
    "\n",
    "    if len(token) > 0:\n",
    "        tokens.append(token)    \n",
    "    \n",
    "    for current in tokens:\n",
    "        digits = \"\".join(dg for dg in current if dg in string.digits)\n",
    "        element = \"\".join(ch for ch in current if ch not in string.digits)\n",
    "        \n",
    "        if len(digits) == 0:\n",
    "            count = 1\n",
    "        else:\n",
    "            count = int(digits)\n",
    "        atom_dict[element] = count\n",
    "\n",
    "    return atom_dict"
   ]
  },
  {
   "cell_type": "code",
   "execution_count": 2,
   "id": "c27aaaf0",
   "metadata": {},
   "outputs": [
    {
     "name": "stdout",
     "output_type": "stream",
     "text": [
      "{'H': 2, 'O': 1}\n",
      "{'Ca': 1, 'Cl': 2}\n",
      "{'C': 12, 'H': 22, 'O': 11}\n",
      "{'C': 2, 'H': 1, 'O': 1}\n"
     ]
    }
   ],
   "source": [
    "print(parse_molecular_formula(\"H2O\"))\n",
    "print(parse_molecular_formula(\"CaCl2\"))\n",
    "print(parse_molecular_formula(\"C12H22O11\"))\n",
    "print(parse_molecular_formula(\"C2H5OH\"))"
   ]
  },
  {
   "cell_type": "markdown",
   "id": "542b8819",
   "metadata": {},
   "source": [
    "The function as defined above fails for C2H5OH because the new \"H\" entry overwrites the former \"H\" entry.\n",
    "\n",
    "Revised strategy: Initiate a dictionary that has default entries so that each atom does not need to be assigned as a new entry (thereby overwriting previous instances of that atom as they have the same key), but rather added to the dictionary so that instances of atoms are summed."
   ]
  },
  {
   "cell_type": "code",
   "execution_count": 7,
   "id": "aebedd9f-986e-43bf-89b0-dc31e9069dbc",
   "metadata": {},
   "outputs": [
    {
     "data": {
      "text/plain": [
       "defaultdict(int, {'C': 2, 'H': 6, 'O': 1})"
      ]
     },
     "execution_count": 7,
     "metadata": {},
     "output_type": "execute_result"
    }
   ],
   "source": [
    "from collections import defaultdict #defaultdict creates default entries and thus allows to add to existing entries\n",
    "\n",
    "def convert_quantities(quantity : str):\n",
    "    if len(quantity) == 0:\n",
    "        return 1\n",
    "    else:\n",
    "        return int(quantity)\n",
    "\n",
    "def parse_molecular_formula(formula: str) -> dict[str, int]:\n",
    "    \"\"\"\n",
    "    Because there is \"N\", \"I\" and \"Ni\" in elements, to split this in a unique way we require the correct capitalization in the input.\n",
    "    \"\"\"\n",
    "    atom_dict = defaultdict(int)\n",
    "    pattern = r\"([A-Z][a-z]?)([0-9]*)\"\n",
    "\n",
    "    components = re.findall(pattern, formula)\n",
    "    for component in components:\n",
    "        atom_dict[component[0]] += convert_quantities(component[1])\n",
    "\n",
    "    return atom_dict\n",
    "\n",
    "# Alternative solution using Counter instead -- requires from collections import Counter\n",
    "# Not shorter than the solution with defaultdict, and the code is a bit more complex, so not preferred\n",
    "\n",
    "# def parse_molecular_formula(formula: str) -> dict[str, int]:\n",
    "#     \"\"\"\n",
    "#     Because there is \"N\", \"I\" and \"Ni\" in elements, to split this in a unique way we require the correct capitalization in the input.\n",
    "#     \"\"\"\n",
    "#     atom_counter = Counter()\n",
    "#     pattern = r\"([A-Z][a-z]?)([0-9]*)\"\n",
    "\n",
    "#     components = re.findall(pattern, formula)\n",
    "#     for component in components:\n",
    "#         atom_counter += Counter({component[0]:convert_quantities(component[1])})\n",
    "\n",
    "#    return atom_counter\n",
    "    \n",
    "parse_molecular_formula(\"C2H5OH\")"
   ]
  },
  {
   "cell_type": "code",
   "execution_count": null,
   "id": "2d62a9f8",
   "metadata": {},
   "outputs": [],
   "source": [
    "# Alternative Double while loop with two pointers (i, j): \n",
    "# While 1: Loop over pairs of atom/element e.g. Cl2\n",
    "# While 2: Loop over atom/element pair and extract element and number of atoms\n",
    "\n",
    "from typing import Dict\n",
    "\n",
    "def parse_molecular_formula(formula: str) -> Dict[str, int]:\n",
    "    atom_dict = dict()\n",
    "\n",
    "    i = 0\n",
    "    while i < len(formula):\n",
    "        extracted_element = \"\"\n",
    "        extracted_n_atoms = \"\"\n",
    "\n",
    "        j = 0\n",
    "        while (j+i) < len(formula):\n",
    "            # Break condition: Start of next element\n",
    "            if extracted_element != \"\" and formula[i+j].lower() != formula[i+j]: # Alternative: extracted_element != \"\" and formula[i + j].isupper()\n",
    "                break\n",
    "            elif formula[i+j].isalpha():\n",
    "                extracted_element += formula[i+j]\n",
    "            elif formula[i+j].isnumeric():\n",
    "                extracted_n_atoms += formula[i+j]\n",
    "            j += 1\n",
    "        \n",
    "        if extracted_element in atom_dict:\n",
    "            atom_dict[extracted_element] = atom_dict[extracted_element] + (int(extracted_n_atoms) if extracted_n_atoms != \"\" else 1)\n",
    "        else:\n",
    "            atom_dict[extracted_element] = int(extracted_n_atoms) if extracted_n_atoms != \"\" else 1 \n",
    "        \n",
    "        i = i + j\n",
    "    \n",
    "    return atom_dict"
   ]
  },
  {
   "cell_type": "markdown",
   "id": "de481166",
   "metadata": {},
   "source": [
    "### Test cases: Set 1 Basic formulae"
   ]
  },
  {
   "cell_type": "markdown",
   "id": "c1181020",
   "metadata": {},
   "source": [
    "The test cases will increase in difficulty with each set. Start with the first set, but think about how your approach will scale to the later, more complex cases."
   ]
  },
  {
   "cell_type": "code",
   "execution_count": 3,
   "id": "f1a87cfe",
   "metadata": {},
   "outputs": [
    {
     "name": "stdout",
     "output_type": "stream",
     "text": [
      "H2O: {'H': 2, 'O': 1} ✓\n",
      "CH4: {'C': 1, 'H': 4} ✓\n",
      "CO2: {'C': 1, 'O': 2} ✓\n",
      "NH3: {'N': 1, 'H': 3} ✓\n"
     ]
    }
   ],
   "source": [
    "# Simple single-letter elements, single-digit counts\n",
    "test_cases_level1 = [\n",
    "    (\"H2O\", {\"H\": 2, \"O\": 1}),\n",
    "    (\"CH4\", {\"C\": 1, \"H\": 4}),\n",
    "    (\"CO2\", {\"C\": 1, \"O\": 2}),\n",
    "    (\"NH3\", {\"N\": 1, \"H\": 3})\n",
    "]\n",
    "\n",
    "for formula, expected in test_cases_level1:\n",
    "    result = parse_molecular_formula(formula)\n",
    "    print(f\"{formula}: {result} {'✓' if result == expected else '✗'}\")"
   ]
  },
  {
   "cell_type": "markdown",
   "id": "c59bffda",
   "metadata": {},
   "source": [
    "### Test cases: Set 2 Multi-letter Elements"
   ]
  },
  {
   "cell_type": "code",
   "execution_count": 4,
   "id": "eeaf87b5",
   "metadata": {},
   "outputs": [
    {
     "name": "stdout",
     "output_type": "stream",
     "text": [
      "NaCl: {'Na': 1, 'Cl': 1} ✓\n",
      "CaCl2: {'Ca': 1, 'Cl': 2} ✓\n",
      "MgO: {'Mg': 1, 'O': 1} ✓\n",
      "AlCl3: {'Al': 1, 'Cl': 3} ✓\n",
      "H2SO4: {'H': 2, 'S': 1, 'O': 4} ✓\n"
     ]
    }
   ],
   "source": [
    "# Two-letter elements like Ca, Cl, Na\n",
    "test_cases_level2 = [\n",
    "    (\"NaCl\", {\"Na\": 1, \"Cl\": 1}),\n",
    "    (\"CaCl2\", {\"Ca\": 1, \"Cl\": 2}),\n",
    "    (\"MgO\", {\"Mg\": 1, \"O\": 1}),\n",
    "    (\"AlCl3\", {\"Al\": 1, \"Cl\": 3}),\n",
    "    (\"H2SO4\", {\"H\": 2, \"S\": 1, \"O\": 4})\n",
    "]\n",
    "\n",
    "for formula, expected in test_cases_level2:\n",
    "    result = parse_molecular_formula(formula)\n",
    "    print(f\"{formula}: {result} {'✓' if result == expected else '✗'}\")\n"
   ]
  },
  {
   "cell_type": "markdown",
   "id": "faa31e87",
   "metadata": {},
   "source": [
    "### Test cases: Set 3 Large Numbers"
   ]
  },
  {
   "cell_type": "code",
   "execution_count": 5,
   "id": "f38856b8",
   "metadata": {},
   "outputs": [
    {
     "name": "stdout",
     "output_type": "stream",
     "text": [
      "C12H22O11: {'C': 12, 'H': 22, 'O': 11} ✓\n",
      "Ca10P6O26: {'Ca': 10, 'P': 6, 'O': 26} ✓\n",
      "C2H5OH: {'C': 2, 'H': 1, 'O': 1} ✗\n",
      "Fe2O3: {'Fe': 2, 'O': 3} ✓\n"
     ]
    }
   ],
   "source": [
    "# Multi-digit counts\n",
    "test_cases_level3 = [\n",
    "    (\"C12H22O11\", {\"C\": 12, \"H\": 22, \"O\": 11}),  # Sucrose\n",
    "    (\"Ca10P6O26\", {\"Ca\": 10, \"P\": 6, \"O\": 26}),   # Hydroxyapatite\n",
    "    (\"C2H5OH\", {\"C\": 2, \"H\": 6, \"O\": 1}),         # Ethanol\n",
    "    (\"Fe2O3\", {\"Fe\": 2, \"O\": 3})                  # Iron oxide\n",
    "]\n",
    "\n",
    "for formula, expected in test_cases_level3:\n",
    "    result = parse_molecular_formula(formula)\n",
    "    print(f\"{formula}: {result} {'✓' if result == expected else '✗'}\")\n"
   ]
  }
 ],
 "metadata": {
  "kernelspec": {
   "display_name": "uv",
   "language": "python",
   "name": "python3"
  },
  "language_info": {
   "codemirror_mode": {
    "name": "ipython",
    "version": 3
   },
   "file_extension": ".py",
   "mimetype": "text/x-python",
   "name": "python",
   "nbconvert_exporter": "python",
   "pygments_lexer": "ipython3",
   "version": "3.11.0"
  },
  "widgets": {
   "application/vnd.jupyter.widget-state+json": {
    "state": {},
    "version_major": 2,
    "version_minor": 0
   }
  }
 },
 "nbformat": 4,
 "nbformat_minor": 5
}
