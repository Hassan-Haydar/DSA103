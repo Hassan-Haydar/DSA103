{
 "cells": [
  {
   "cell_type": "markdown",
   "id": "e03d709a",
   "metadata": {},
   "source": [
    "# Lecture 4: Python Review 2"
   ]
  },
  {
   "cell_type": "markdown",
   "id": "27497d84",
   "metadata": {},
   "source": [
    "## Key Concepts Review"
   ]
  },
  {
   "cell_type": "markdown",
   "id": "5b2184cc",
   "metadata": {},
   "source": [
    "### Binary Numbers and Float Precision\n",
    "\n",
    "Computers store numbers in binary (base 2), which can cause precision issues with decimal numbers:\n",
    "\n",
    "```python\n",
    "# Float precision issues\n",
    "print(0.1 + 0.2)  # Output: 0.30000000000000004 (not exactly 0.3!)\n",
    "print(0.1 + 0.2 == 0.3)  # Output: False\n",
    "\n",
    "# Better way to compare floats\n",
    "def close_enough(a, b, tolerance=1e-9):\n",
    "    return abs(a - b) < tolerance\n",
    "\n",
    "print(close_enough(0.1 + 0.2, 0.3))  # Output: True\n",
    "```"
   ]
  },
  {
   "cell_type": "markdown",
   "id": "a267f99b",
   "metadata": {
    "vscode": {
     "languageId": "plaintext"
    }
   },
   "source": [
    "### Objects and Types\n",
    "Everything in Python (except keywords) is an object with a type:\n",
    "\n",
    "```python\n",
    "# Scalar types (single values)\n",
    "concentration = 0.5      # float\n",
    "num_atoms = 6           # int\n",
    "element = \"H\"           # string\n",
    "is_stable = True        # boolean\n",
    "\n",
    "# Non-scalar types (collections)\n",
    "concentrations = [0.1, 0.2, 0.3]     # list\n",
    "compound_data = {\"name\": \"water\", \"formula\": \"H2O\"}  # dictionary\n",
    "\n",
    "# Check types\n",
    "print(type(concentration))  # <class 'float'>\n",
    "print(type(concentrations)) # <class 'list'>\n",
    "\n",
    "# Type comparison\n",
    "print(isinstance(concentration, float)) # True\n",
    "print(isinstance(concentration, list)) # False\n",
    "```\n"
   ]
  },
  {
   "cell_type": "markdown",
   "id": "758a7dec",
   "metadata": {
    "vscode": {
     "languageId": "plaintext"
    }
   },
   "source": [
    "### Useful Operators\n",
    "\n",
    "```python\n",
    "# Comparison operators that handle precision\n",
    "import math\n",
    "math.isclose(0.1 + 0.2, 0.3)  # Better than == for floats\n",
    "\n",
    "# Membership operators\n",
    "\"H\" in [\"H\", \"O\", \"N\"]  # True\n",
    "\"formula\" in {\"name\": \"water\", \"formula\": \"H2O\"}  # True\n",
    "```"
   ]
  },
  {
   "cell_type": "markdown",
   "id": "1533a045",
   "metadata": {},
   "source": [
    "## Exercise 1: Concentration Precision Checker\n",
    "\n",
    "**Objective:** Understand float precision issues when working with chemical concentrations.\n",
    "\n",
    "**Problem:** In analytical chemistry, you often need to compare measured concentrations, but computer precision can cause issues. Write a function that safely compares concentrations and handles rounding errors.\n",
    "\n",
    "**Your Task:** Create a function called `concentrations_equal()` that:\n",
    "\n",
    "- Takes two concentration values and an optional tolerance (default 1e-6)\n",
    "- Returns True if the concentrations are \"close enough\" considering float precision\n",
    "\n",
    "Also create a function `round_to_significant_figures()` that rounds a number to a given number of significant figures\n",
    "\n",
    "**Hints:**\n",
    "- Use abs(a - b) < tolerance for comparison\n",
    "- For significant figures, you might need to use logarithms: import math then math.log10()\n",
    "- Think about how to handle very small numbers (like 0.00123)\n"
   ]
  },
  {
   "cell_type": "code",
   "execution_count": 1,
   "id": "0ad7bdd6",
   "metadata": {},
   "outputs": [],
   "source": [
    "\n",
    "def concentrations_equal(conc1: float, conc2: float, tolerance : float = 1E-6) -> bool:\n",
    "    return abs(conc1-conc2) < tolerance\n"
   ]
  },
  {
   "cell_type": "code",
   "execution_count": 2,
   "id": "44dbe705",
   "metadata": {},
   "outputs": [],
   "source": [
    "# using string conversions and then interpreting as float\n",
    "def round_to_significant_figures_str(value: float, precision: int) -> float:\n",
    "    return float(f\"{value:.{precision}g}\")\n",
    "    \n",
    "# using log10 but a bit convoluted?!\n",
    "import math\n",
    "def round_to_significant_figures_log(value: float, precision: int) -> float:\n",
    "    exponent = math.log10(value)\n",
    "    normalized = value/(10**round(exponent))\n",
    "    return round(normalized, ndigits=precision-1)*(10**round(exponent))"
   ]
  },
  {
   "cell_type": "markdown",
   "id": "3b5a927d",
   "metadata": {
    "vscode": {
     "languageId": "plaintext"
    }
   },
   "source": [
    "### Test Cases: Concentration comparison\n"
   ]
  },
  {
   "cell_type": "code",
   "execution_count": 3,
   "id": "4d94c271",
   "metadata": {},
   "outputs": [
    {
     "name": "stdout",
     "output_type": "stream",
     "text": [
      "True\n",
      "True\n",
      "False\n"
     ]
    }
   ],
   "source": [
    "print(concentrations_equal(0.1 + 0.2, 0.3))           # Should be True\n",
    "print(concentrations_equal(0.1001, 0.1002, 1e-3))     # Should be True  \n",
    "print(concentrations_equal(0.1001, 0.1002, 1e-5))     # Should be False"
   ]
  },
  {
   "cell_type": "markdown",
   "id": "aa1f5b7e",
   "metadata": {},
   "source": [
    "### Test Cases: Rounding"
   ]
  },
  {
   "cell_type": "code",
   "execution_count": 4,
   "id": "28f7df97",
   "metadata": {},
   "outputs": [
    {
     "name": "stdout",
     "output_type": "stream",
     "text": [
      "0.123\n",
      "1230.0\n",
      "0.00123\n",
      "0.123\n",
      "1230.0\n",
      "0.00123\n"
     ]
    }
   ],
   "source": [
    "print(round_to_significant_figures_str(0.123456, 3))       # Should be 0.123\n",
    "print(round_to_significant_figures_str(1234.56, 3))        # Should be 1230.0\n",
    "print(round_to_significant_figures_str(0.00123456, 3))     # Should be 0.00123\n",
    "\n",
    "print(round_to_significant_figures_log(0.123456, 3))       # Should be 0.123\n",
    "print(round_to_significant_figures_log(1234.56, 3))        # Should be 1230.0\n",
    "print(round_to_significant_figures_log(0.00123456, 3))     # Should be 0.00123"
   ]
  },
  {
   "cell_type": "markdown",
   "id": "392eef00",
   "metadata": {},
   "source": [
    "## Exercise 2: Reaction Optimization Calculator\n",
    "\n",
    "**Objective:** Use optimization thinking to find the best reaction conditions while working with different data types.\n",
    "\n",
    "**Problem:** You're optimizing a chemical reaction by testing different temperatures and catalyst amounts. Write a program that finds the optimal conditions from experimental data.\n",
    "\n",
    "**Your Task:** Create functions that:\n",
    "\n",
    "- Store experimental data as a list of dictionaries\n",
    "- Find the conditions that give maximum yield\n",
    "- Find all conditions that give yield within a certain percentage of the maximum\n",
    "- Calculate the cost-effectiveness (yield per unit cost) for each condition\n",
    "\n",
    "**Data Structure:**"
   ]
  },
  {
   "cell_type": "code",
   "execution_count": 5,
   "id": "88ca7f43",
   "metadata": {},
   "outputs": [],
   "source": [
    "# Each experiment is a dictionary\n",
    "experimental_data = [\n",
    "    {\"temperature\": 25.0, \"catalyst\": 0.1, \"yield\": 45.2, \"cost\": 10.5},\n",
    "    {\"temperature\": 50.0, \"catalyst\": 0.1, \"yield\": 67.8, \"cost\": 12.0},\n",
    "    {\"temperature\": 75.0, \"catalyst\": 0.1, \"yield\": 82.3, \"cost\": 15.5},\n",
    "    {\"temperature\": 100.0, \"catalyst\": 0.1, \"yield\": 78.9, \"cost\": 20.0},\n",
    "    {\"temperature\": 50.0, \"catalyst\": 0.2, \"yield\": 75.4, \"cost\": 18.0},\n",
    "    {\"temperature\": 75.0, \"catalyst\": 0.2, \"yield\": 89.1, \"cost\": 22.5}\n",
    "]"
   ]
  },
  {
   "cell_type": "markdown",
   "id": "1a0a9f0e",
   "metadata": {},
   "source": [
    "**Functions to Write:** "
   ]
  },
  {
   "cell_type": "code",
   "execution_count": 6,
   "id": "5bc1caa9",
   "metadata": {},
   "outputs": [],
   "source": [
    "from typing import List, Dict\n",
    "# Backwards-compatible -- for Python 3.8 and higher can just use list, dict below, no import\n",
    "\n",
    "def find_max_yield_condition(data: List[Dict[str, float]]) -> Dict[str, float]:\n",
    "    # Return the dictionary with highest yield\n",
    "    return sorted(data, key=lambda x: x['yield'])[-1]"
   ]
  },
  {
   "cell_type": "code",
   "execution_count": 7,
   "id": "77da86b9",
   "metadata": {},
   "outputs": [],
   "source": [
    "\n",
    "def find_conditions_near_optimum(data: List[Dict[str, float]], percentage: int = 10) -> List[Dict[str, float]]:\n",
    "    # Return all conditions within percentage% of max yield   \n",
    "    best_yield_exp = find_max_yield_condition(data)\n",
    "    return [exp for exp in data if (abs(exp['yield']-best_yield_exp['yield']) < percentage)]\n",
    "    \n",
    "# [f(x) for x in iterable if condition]"
   ]
  },
  {
   "cell_type": "code",
   "execution_count": 8,
   "id": "0e894456",
   "metadata": {},
   "outputs": [],
   "source": [
    "def calculate_cost_effectiveness(data: List[Dict[str, float]]) -> List[Dict[str, float]]:\n",
    "    # Add \"efficiency\" key to each dictionary (yield/cost)\n",
    "    # Return the modified data\n",
    "    \n",
    "    for entry in data:\n",
    "        entry['efficiency'] = entry['yield'] / entry['cost']\n",
    "    \n",
    "    return data\n",
    "        \n",
    "    "
   ]
  },
  {
   "cell_type": "code",
   "execution_count": 9,
   "id": "a882bb4a",
   "metadata": {},
   "outputs": [],
   "source": [
    "\n",
    "def optimize_by_criteria(data: List[Dict[str, float]], criteria: str = \"yield\") -> List[Dict[str, float]]:\n",
    "    # Return best condition based on \"yield\", \"cost\", or \"efficiency\"\n",
    "    return sorted(data, key=lambda entry: entry[criteria])[-1]\n"
   ]
  },
  {
   "cell_type": "markdown",
   "id": "2c8d9cb6",
   "metadata": {},
   "source": [
    "### Test case:"
   ]
  },
  {
   "cell_type": "code",
   "execution_count": 10,
   "id": "ed0470c7-1a52-4411-b9b9-df09e52e8f89",
   "metadata": {},
   "outputs": [
    {
     "name": "stdout",
     "output_type": "stream",
     "text": [
      "Best yield: {'temperature': 75.0, 'catalyst': 0.2, 'yield': 89.1, 'cost': 22.5}\n"
     ]
    }
   ],
   "source": [
    "# Basic Optimization\n",
    "best_yield = find_max_yield_condition(experimental_data)\n",
    "print(f\"Best yield: {best_yield}\")\n",
    "# Expected: Should return the condition with 89.1% yield"
   ]
  },
  {
   "cell_type": "code",
   "execution_count": 11,
   "id": "2e7888f5-7e37-4f45-8610-925a1e934d10",
   "metadata": {},
   "outputs": [
    {
     "name": "stdout",
     "output_type": "stream",
     "text": [
      "Conditions within 15% of optimum: 4 found\n"
     ]
    }
   ],
   "source": [
    "near_optimum = find_conditions_near_optimum(experimental_data, 15)\n",
    "print(f\"Conditions within 15% of optimum: {len(near_optimum)} found\")\n",
    "# Expected: Should find multiple conditions within 15% of 89.1%"
   ]
  },
  {
   "cell_type": "code",
   "execution_count": 12,
   "id": "1fcb631b",
   "metadata": {},
   "outputs": [
    {
     "name": "stdout",
     "output_type": "stream",
     "text": [
      "Most cost-effective: {'temperature': 50.0, 'catalyst': 0.1, 'yield': 67.8, 'cost': 12.0, 'efficiency': 5.6499999999999995}\n"
     ]
    }
   ],
   "source": [
    "data_with_efficiency = calculate_cost_effectiveness(experimental_data)\n",
    "best_efficiency = optimize_by_criteria(data_with_efficiency, \"efficiency\")\n",
    "print(f\"Most cost-effective: {best_efficiency}\")"
   ]
  },
  {
   "cell_type": "markdown",
   "id": "878950e3",
   "metadata": {},
   "source": [
    "## Exercise 3: Reaction Simulator Class\n",
    "\n",
    "**Objective:** Create a reaction simulator that models the concentration of the reagents and products as a reaction progresses. \n",
    "\n",
    "**Problem:** Build a ChemicalReaction class that simulates simple chemical reactions, tracks reactant consumption, and handles errors when invalid data is provided.\n",
    "\n",
    "**Your Task:** Complete the class below:"
   ]
  },
  {
   "cell_type": "code",
   "execution_count": 13,
   "id": "293f3e7d-44ca-4b5c-b625-07b59d580164",
   "metadata": {},
   "outputs": [],
   "source": [
    "from typing import Dict\n",
    "from collections import defaultdict\n",
    "from itertools import chain\n",
    "\n",
    "class ChemicalReaction:\n",
    "    def __init__(self, reactants: Dict[str, int], products: Dict[str, int], reaction_rate: int = 1.0):\n",
    "        \"\"\"\n",
    "        Initialize a chemical reaction\n",
    "        reactants: dict like {\"H2\": 2, \"O2\": 1}\n",
    "        products: dict like {\"H2O\": 2}\n",
    "        the terms reagent and reactant are used here interchangeably but reactant is strictly more correct\n",
    "        The integer values for reactants and products indicate the reaction stoichiometry\n",
    "        reaction_rate: float (how fast the reaction proceeds, in one reaction given by reactants and products per second)\n",
    "        \"\"\"\n",
    "\n",
    "        # To be initialised\n",
    "        self.reactants = reactants\n",
    "        self.products = products\n",
    "        self.reaction_rate = reaction_rate\n",
    "\n",
    "        self.reaction_vessel_content: Dict[str, float] = defaultdict(float)\n",
    "    \n",
    "    def add_reactant_amount(self, compound: str, amount: float):\n",
    "        \"\"\"Add amount of reactant to the reaction vessel. What happens if the compound added is not part of the reagents or products?\"\"\"\n",
    "        if compound not in set(chain(self.reactants.keys(), self.products.keys())):\n",
    "            raise ValueError(\"Reactant not part of reaction.\")\n",
    "\n",
    "        self.reaction_vessel_content[compound] += amount\n",
    "            \n",
    "            \n",
    "    def run_reaction(self, time_seconds: float = 1.0):\n",
    "        \"\"\"Run reaction for given time and update reactant amounts. What happens if not enough of one compound is left?\"\"\"\n",
    "        reaction_amount = self.reaction_rate * time_seconds\n",
    "\n",
    "        # limitation given by either 1) the previous maximum_reaction_amount for the last molecule, \n",
    "        # 2) the reaction_amount 3) availability in the vessel\n",
    "        maximum_reaction_amount = float(\"inf\")\n",
    "        for molecule, amount in self.reactants.items():\n",
    "            maximum_reaction_amount = min([maximum_reaction_amount, \n",
    "                                           reaction_amount, \n",
    "                                           self.reaction_vessel_content[molecule]/amount * reaction_amount])\n",
    "            \n",
    "        for compound in self.reactants.keys():\n",
    "            self.reaction_vessel_content[compound] -= self.reactants[compound] * maximum_reaction_amount\n",
    "\n",
    "        for compound in self.products.keys():\n",
    "            self.reaction_vessel_content[compound] += self.products[compound] * maximum_reaction_amount\n",
    "        \n",
    "    \n",
    "    def get_reaction_status(self):\n",
    "        \"\"\"Return current content of the reaction vessel as a dictionary.\"\"\"\n",
    "        return self.reaction_vessel_content\n",
    "        "
   ]
  },
  {
   "cell_type": "markdown",
   "id": "add2940e",
   "metadata": {},
   "source": [
    "### Test cases"
   ]
  },
  {
   "cell_type": "code",
   "execution_count": 14,
   "id": "f65a9596",
   "metadata": {},
   "outputs": [],
   "source": [
    "water_reaction = ChemicalReaction(\n",
    "    reactants={\"H2\": 2, \"O2\": 1},\n",
    "    products={\"H2O\": 2},\n",
    "    reaction_rate=0.5\n",
    ")\n"
   ]
  },
  {
   "cell_type": "code",
   "execution_count": 15,
   "id": "d7be6118",
   "metadata": {},
   "outputs": [
    {
     "data": {
      "text/plain": [
       "defaultdict(float, {})"
      ]
     },
     "execution_count": 15,
     "metadata": {},
     "output_type": "execute_result"
    }
   ],
   "source": [
    "water_reaction.get_reaction_status() "
   ]
  },
  {
   "cell_type": "code",
   "execution_count": 16,
   "id": "567c91e9",
   "metadata": {},
   "outputs": [
    {
     "name": "stdout",
     "output_type": "stream",
     "text": [
      "defaultdict(<class 'float'>, {'H2': 10.0, 'O2': 3.0})\n",
      "defaultdict(<class 'float'>, {'H2': 8.0, 'O2': 2.0, 'H2O': 2.0})\n"
     ]
    }
   ],
   "source": [
    "## Test case 1: General function of the simulator\n",
    "\n",
    "# Add reactants\n",
    "water_reaction.add_reactant_amount(\"H2\", 10.0)\n",
    "water_reaction.add_reactant_amount(\"O2\", 3.0)\n",
    "\n",
    "# Check initial state of reaction vessel\n",
    "reaction_status = water_reaction.get_reaction_status() \n",
    "print(reaction_status)\n",
    "assert reaction_status['H2'] == 10.0\n",
    "assert reaction_status['O2'] == 3.0\n",
    "assert reaction_status['H2O'] == 0\n",
    "\n",
    "# Run reaction\n",
    "water_reaction.run_reaction(2.0)  # Run for 2 timepoints\n",
    "\n",
    "# Check content of reaction vessel again\n",
    "reaction_status = water_reaction.get_reaction_status() \n",
    "print(reaction_status)\n",
    "assert reaction_status['H2'] == 8.0\n",
    "assert reaction_status['O2'] == 2.0\n",
    "assert reaction_status['H2O'] == 2.0"
   ]
  },
  {
   "cell_type": "code",
   "execution_count": 17,
   "id": "1523476f",
   "metadata": {},
   "outputs": [
    {
     "ename": "ValueError",
     "evalue": "Reactant not part of reaction.",
     "output_type": "error",
     "traceback": [
      "\u001b[1;31m---------------------------------------------------------------------------\u001b[0m",
      "\u001b[1;31mValueError\u001b[0m                                Traceback (most recent call last)",
      "Cell \u001b[1;32mIn[17], line 2\u001b[0m\n\u001b[0;32m      1\u001b[0m \u001b[38;5;66;03m## Test case 2: Test error handling when adding compound not in reaction\u001b[39;00m\n\u001b[1;32m----> 2\u001b[0m \u001b[43mwater_reaction\u001b[49m\u001b[38;5;241;43m.\u001b[39;49m\u001b[43madd_reactant_amount\u001b[49m\u001b[43m(\u001b[49m\u001b[38;5;124;43m\"\u001b[39;49m\u001b[38;5;124;43mN2\u001b[39;49m\u001b[38;5;124;43m\"\u001b[39;49m\u001b[43m,\u001b[49m\u001b[43m \u001b[49m\u001b[38;5;241;43m10.0\u001b[39;49m\u001b[43m)\u001b[49m\n",
      "Cell \u001b[1;32mIn[13], line 27\u001b[0m, in \u001b[0;36mChemicalReaction.add_reactant_amount\u001b[1;34m(self, compound, amount)\u001b[0m\n\u001b[0;32m     25\u001b[0m \u001b[38;5;250m\u001b[39m\u001b[38;5;124;03m\"\"\"Add amount of reactant to the reaction vessel. What happens if the compound added is not part of the reagents or products?\"\"\"\u001b[39;00m\n\u001b[0;32m     26\u001b[0m \u001b[38;5;28;01mif\u001b[39;00m compound \u001b[38;5;129;01mnot\u001b[39;00m \u001b[38;5;129;01min\u001b[39;00m \u001b[38;5;28mset\u001b[39m(chain(\u001b[38;5;28mself\u001b[39m\u001b[38;5;241m.\u001b[39mreactants\u001b[38;5;241m.\u001b[39mkeys(), \u001b[38;5;28mself\u001b[39m\u001b[38;5;241m.\u001b[39mproducts\u001b[38;5;241m.\u001b[39mkeys())):\n\u001b[1;32m---> 27\u001b[0m     \u001b[38;5;28;01mraise\u001b[39;00m \u001b[38;5;167;01mValueError\u001b[39;00m(\u001b[38;5;124m\"\u001b[39m\u001b[38;5;124mReactant not part of reaction.\u001b[39m\u001b[38;5;124m\"\u001b[39m)\n\u001b[0;32m     29\u001b[0m \u001b[38;5;28mself\u001b[39m\u001b[38;5;241m.\u001b[39mreaction_vessel_content[compound] \u001b[38;5;241m+\u001b[39m\u001b[38;5;241m=\u001b[39m amount\n",
      "\u001b[1;31mValueError\u001b[0m: Reactant not part of reaction."
     ]
    }
   ],
   "source": [
    "## Test case 2: Test error handling when adding compound not in reaction\n",
    "water_reaction.add_reactant_amount(\"N2\", 10.0)"
   ]
  },
  {
   "cell_type": "code",
   "execution_count": 18,
   "id": "093ae783",
   "metadata": {},
   "outputs": [
    {
     "name": "stdout",
     "output_type": "stream",
     "text": [
      "defaultdict(<class 'float'>, {'H2': 6.0, 'O2': 0.0, 'H2O': 6.0})\n"
     ]
    }
   ],
   "source": [
    "## Test case 3: Let reaction run to completion\n",
    "water_reaction.add_reactant_amount(\"H2\", 2.0)\n",
    "water_reaction.run_reaction(4.0)\n",
    "\n",
    "# Check content of reaction vessel again\n",
    "reaction_status = water_reaction.get_reaction_status() \n",
    "print(reaction_status)\n",
    "assert reaction_status['H2'] == 6.0\n",
    "assert reaction_status['O2'] == 0.0\n",
    "assert reaction_status['H2O'] == 6.0"
   ]
  }
 ],
 "metadata": {
  "kernelspec": {
   "display_name": "Python 3 (ipykernel)",
   "language": "python",
   "name": "python3"
  },
  "language_info": {
   "codemirror_mode": {
    "name": "ipython",
    "version": 3
   },
   "file_extension": ".py",
   "mimetype": "text/x-python",
   "name": "python",
   "nbconvert_exporter": "python",
   "pygments_lexer": "ipython3",
   "version": "3.9.10"
  },
  "widgets": {
   "application/vnd.jupyter.widget-state+json": {
    "state": {},
    "version_major": 2,
    "version_minor": 0
   }
  }
 },
 "nbformat": 4,
 "nbformat_minor": 5
}
